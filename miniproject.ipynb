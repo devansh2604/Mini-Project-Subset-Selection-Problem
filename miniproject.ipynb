{
  "nbformat": 4,
  "nbformat_minor": 0,
  "metadata": {
    "colab": {
      "provenance": [],
      "authorship_tag": "ABX9TyOKO00os7YYuBt5ncrBAg38",
      "include_colab_link": true
    },
    "kernelspec": {
      "name": "python3",
      "display_name": "Python 3"
    },
    "language_info": {
      "name": "python"
    }
  },
  "cells": [
    {
      "cell_type": "markdown",
      "metadata": {
        "id": "view-in-github",
        "colab_type": "text"
      },
      "source": [
        "<a href=\"https://colab.research.google.com/github/devansh2604/Mini-Project-Subset-Selection-Problem/blob/main/miniproject.ipynb\" target=\"_parent\"><img src=\"https://colab.research.google.com/assets/colab-badge.svg\" alt=\"Open In Colab\"/></a>"
      ]
    },
    {
      "cell_type": "code",
      "execution_count": 7,
      "metadata": {
        "colab": {
          "base_uri": "https://localhost:8080/"
        },
        "id": "pXx-PKFKxp0y",
        "outputId": "8c5b76aa-8e95-4cf4-e44a-ff2ff38fcbf2"
      },
      "outputs": [
        {
          "output_type": "stream",
          "name": "stdout",
          "text": [
            "[[9, -4, 11, -9, -7], [-12, 1, 6, 7, -2], [-2, -6, 9, 11, -12], [-4, 11, 7, -2, -12], [-3, 11, 9, -12, -5], [1, 11, -2, -7, -3], [1, 3, 11, -3, -12], [1, -7, 6, -9, 9], [-8, 7, -6, 9, -2], [-4, -2, -6, 1, 11], [-4, -7, -5, 9, 7], [-2, 6, -8, -7, 11], [-3, -8, 6, -2, 7], [-3, -5, -7, 6, 9], [3, -7, -3, 6, 1], [1, 2, 7, -3, -7], [-5, -6, 2, 6, 3], [-12, 7, 1, -7, 11], [-5, -3, 3, -6, 11], [-8, 3, -2, 6, 1], [-4, -5, 1, -3, 11], [3, -3, 1, 11, -12], [2, -12, 6, 9, -5], [11, 7, -8, -4, -6], [3, -3, 7, -8, 1], [9, -5, -7, 2, 1], [-9, 6, 7, -7, 3], [3, 7, -2, -5, -3], [-2, 7, 6, -5, -6], [1, -3, -12, 11, 3], [-4, -6, 7, -8, 11], [-8, 7, 3, 1, -3]]\n"
          ]
        }
      ],
      "source": [
        "import random as r\n",
        "Set = {-12, -3, -6, 7, 2, -2, 6, 3, 9, -7, -5, -8, 1, 11, -9, -4}\n",
        "SetList = list(Set)\n",
        "itt = 1000\n",
        "l = []\n",
        "\n",
        "for i in range(itt):\n",
        "    a = r.sample(SetList, 5)\n",
        "    if sum(a) == 0:\n",
        "        l.append(a)\n",
        "\n",
        "print(l)"
      ]
    }
  ]
}