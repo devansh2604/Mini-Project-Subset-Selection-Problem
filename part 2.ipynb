{
  "nbformat": 4,
  "nbformat_minor": 0,
  "metadata": {
    "colab": {
      "provenance": [],
      "authorship_tag": "ABX9TyMK/IrNA2W9CGNJyqqBZd11",
      "include_colab_link": true
    },
    "kernelspec": {
      "name": "python3",
      "display_name": "Python 3"
    },
    "language_info": {
      "name": "python"
    }
  },
  "cells": [
    {
      "cell_type": "markdown",
      "metadata": {
        "id": "view-in-github",
        "colab_type": "text"
      },
      "source": [
        "<a href=\"https://colab.research.google.com/github/devansh2604/Mini-Project-Subset-Selection-Problem/blob/main/part%202.ipynb\" target=\"_parent\"><img src=\"https://colab.research.google.com/assets/colab-badge.svg\" alt=\"Open In Colab\"/></a>"
      ]
    },
    {
      "cell_type": "code",
      "execution_count": null,
      "metadata": {
        "id": "fkRNgi6K4OWZ"
      },
      "outputs": [],
      "source": [
        "from itertools import combinations\n",
        "\n",
        "# Given set\n",
        "nums = {-12, -3, -6, 7, 2, -2, 6, 3, 9, -7, -5, -8, 1, 11, -9, -4}\n",
        "\n",
        "# Convert to list for indexing\n",
        "nums = list(nums)\n",
        "\n",
        "# Store valid subsets\n",
        "result = []\n",
        "\n",
        "# Check combinations of size 3 to 6\n",
        "for r in range(3, 7):  # sizes 3 to 6 inclusive\n",
        "    for subset in combinations(nums, r):\n",
        "        if sum(subset) == 0:\n",
        "            result.append(subset)\n",
        "\n",
        "# Print results\n",
        "for subset in result:\n",
        "    print(subset)\n",
        "\n",
        "print(f\"\\nTotal subsets found: {len(result)}\")\n",
        "\n"
      ]
    }
  ]
}